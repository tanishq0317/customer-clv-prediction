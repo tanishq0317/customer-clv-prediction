{
 "cells": [
  {
   "cell_type": "code",
   "execution_count": 22,
   "id": "28c7792e-7df2-4b79-b3b2-fbfd662c2ecd",
   "metadata": {},
   "outputs": [
    {
     "name": "stdout",
     "output_type": "stream",
     "text": [
      "Requirement already satisfied: pandas in /opt/anaconda3/lib/python3.11/site-packages (2.1.4)\n",
      "Requirement already satisfied: lifetimes in /opt/anaconda3/lib/python3.11/site-packages (0.11.3)\n",
      "Requirement already satisfied: openpyxl in /opt/anaconda3/lib/python3.11/site-packages (3.0.10)\n",
      "Requirement already satisfied: numpy<2,>=1.23.2 in /opt/anaconda3/lib/python3.11/site-packages (from pandas) (1.26.4)\n",
      "Requirement already satisfied: python-dateutil>=2.8.2 in /opt/anaconda3/lib/python3.11/site-packages (from pandas) (2.8.2)\n",
      "Requirement already satisfied: pytz>=2020.1 in /opt/anaconda3/lib/python3.11/site-packages (from pandas) (2023.3.post1)\n",
      "Requirement already satisfied: tzdata>=2022.1 in /opt/anaconda3/lib/python3.11/site-packages (from pandas) (2023.3)\n",
      "Requirement already satisfied: scipy>=1.0.0 in /opt/anaconda3/lib/python3.11/site-packages (from lifetimes) (1.11.4)\n",
      "Requirement already satisfied: autograd>=1.2.0 in /opt/anaconda3/lib/python3.11/site-packages (from lifetimes) (1.8.0)\n",
      "Requirement already satisfied: dill>=0.2.6 in /opt/anaconda3/lib/python3.11/site-packages (from lifetimes) (0.3.7)\n",
      "Requirement already satisfied: et_xmlfile in /opt/anaconda3/lib/python3.11/site-packages (from openpyxl) (1.1.0)\n",
      "Requirement already satisfied: six>=1.5 in /opt/anaconda3/lib/python3.11/site-packages (from python-dateutil>=2.8.2->pandas) (1.16.0)\n",
      "Note: you may need to restart the kernel to use updated packages.\n"
     ]
    }
   ],
   "source": [
    "pip install pandas lifetimes openpyxl"
   ]
  },
  {
   "cell_type": "code",
   "execution_count": 23,
   "id": "b948b0f4-b93a-4e25-870d-369961bcfba4",
   "metadata": {},
   "outputs": [],
   "source": [
    "import pandas as pd\n",
    "import numpy as np\n",
    "import datetime as dt\n",
    "from lifetimes import BetaGeoFitter, GammaGammaFitter\n",
    "from lifetimes.utils import summary_data_from_transaction_data"
   ]
  },
  {
   "cell_type": "code",
   "execution_count": 24,
   "id": "ab7af434-a59c-42f8-a255-91326135bd20",
   "metadata": {},
   "outputs": [],
   "source": [
    "df = pd.read_excel('online_retail_II.xlsx')"
   ]
  },
  {
   "cell_type": "code",
   "execution_count": 25,
   "id": "18904314-6f0f-44fc-863f-0bb5d08cccff",
   "metadata": {},
   "outputs": [
    {
     "name": "stdout",
     "output_type": "stream",
     "text": [
      "Index(['Invoice', 'StockCode', 'Description', 'Quantity', 'InvoiceDate',\n",
      "       'Price', 'Customer ID', 'Country'],\n",
      "      dtype='object')\n"
     ]
    }
   ],
   "source": [
    "print(df.columns)"
   ]
  },
  {
   "cell_type": "code",
   "execution_count": 26,
   "id": "a202380e-e35c-46fa-830c-a6404e13fcc2",
   "metadata": {},
   "outputs": [
    {
     "data": {
      "text/plain": [
       "<bound method NDFrame.head of        Invoice StockCode                          Description  Quantity  \\\n",
       "0       489434     85048  15CM CHRISTMAS GLASS BALL 20 LIGHTS        12   \n",
       "1       489434    79323P                   PINK CHERRY LIGHTS        12   \n",
       "2       489434    79323W                  WHITE CHERRY LIGHTS        12   \n",
       "3       489434     22041         RECORD FRAME 7\" SINGLE SIZE         48   \n",
       "4       489434     21232       STRAWBERRY CERAMIC TRINKET BOX        24   \n",
       "...        ...       ...                                  ...       ...   \n",
       "525456  538171     22271                 FELTCRAFT DOLL ROSIE         2   \n",
       "525457  538171     22750         FELTCRAFT PRINCESS LOLA DOLL         1   \n",
       "525458  538171     22751       FELTCRAFT PRINCESS OLIVIA DOLL         1   \n",
       "525459  538171     20970   PINK FLORAL FELTCRAFT SHOULDER BAG         2   \n",
       "525460  538171     21931               JUMBO STORAGE BAG SUKI         2   \n",
       "\n",
       "               InvoiceDate  Price  Customer ID         Country  \n",
       "0      2009-12-01 07:45:00   6.95      13085.0  United Kingdom  \n",
       "1      2009-12-01 07:45:00   6.75      13085.0  United Kingdom  \n",
       "2      2009-12-01 07:45:00   6.75      13085.0  United Kingdom  \n",
       "3      2009-12-01 07:45:00   2.10      13085.0  United Kingdom  \n",
       "4      2009-12-01 07:45:00   1.25      13085.0  United Kingdom  \n",
       "...                    ...    ...          ...             ...  \n",
       "525456 2010-12-09 20:01:00   2.95      17530.0  United Kingdom  \n",
       "525457 2010-12-09 20:01:00   3.75      17530.0  United Kingdom  \n",
       "525458 2010-12-09 20:01:00   3.75      17530.0  United Kingdom  \n",
       "525459 2010-12-09 20:01:00   3.75      17530.0  United Kingdom  \n",
       "525460 2010-12-09 20:01:00   1.95      17530.0  United Kingdom  \n",
       "\n",
       "[525461 rows x 8 columns]>"
      ]
     },
     "execution_count": 26,
     "metadata": {},
     "output_type": "execute_result"
    }
   ],
   "source": [
    "df.head"
   ]
  },
  {
   "cell_type": "code",
   "execution_count": 28,
   "id": "4c1ec585-f985-46f4-bfd7-71ba7a492008",
   "metadata": {},
   "outputs": [],
   "source": [
    "df.rename(columns={\n",
    "    'Customer ID': 'CustomerID',\n",
    "    'Price': 'UnitPrice',\n",
    "    'Invoice': 'InvoiceNo'\n",
    "}, inplace=True)"
   ]
  },
  {
   "cell_type": "code",
   "execution_count": 29,
   "id": "d1a85828-8bd7-4d68-b246-2f9593d3e342",
   "metadata": {},
   "outputs": [],
   "source": [
    "df = df[df['CustomerID'].notnull()] #data cleaning\n",
    "df = df[df['Quantity'] > 0]\n",
    "df['TotalPrice'] = df['Quantity'] * df['UnitPrice']\n",
    "df['InvoiceDate'] = pd.to_datetime(df['InvoiceDate'])"
   ]
  },
  {
   "cell_type": "code",
   "execution_count": 30,
   "id": "76a3b0f9-4b24-4563-a1eb-b53c304f93c6",
   "metadata": {},
   "outputs": [],
   "source": [
    "snapshot_date = df['InvoiceDate'].max() + dt.timedelta(days=1)\n",
    "summary = summary_data_from_transaction_data(\n",
    "    df, customer_id_col='CustomerID', datetime_col='InvoiceDate',\n",
    "    monetary_value_col='TotalPrice', observation_period_end=snapshot_date\n",
    ")"
   ]
  },
  {
   "cell_type": "code",
   "execution_count": 31,
   "id": "c01686dd-0849-44a4-9f1e-ea5f39265e1c",
   "metadata": {},
   "outputs": [],
   "source": [
    "summary = summary[summary['frequency'] > 0]"
   ]
  },
  {
   "cell_type": "code",
   "execution_count": 32,
   "id": "b017411c-0505-4fc7-966a-d869ca961943",
   "metadata": {},
   "outputs": [
    {
     "data": {
      "text/plain": [
       "<lifetimes.BetaGeoFitter: fitted with 2818 subjects, a: 0.02, alpha: 107.18, b: 0.35, r: 1.89>"
      ]
     },
     "execution_count": 32,
     "metadata": {},
     "output_type": "execute_result"
    }
   ],
   "source": [
    "bgf = BetaGeoFitter(penalizer_coef=0.001)\n",
    "bgf.fit(summary['frequency'], summary['recency'], summary['T'])"
   ]
  },
  {
   "cell_type": "code",
   "execution_count": 33,
   "id": "816c3fed-8894-432b-aa74-f54c6faafd33",
   "metadata": {},
   "outputs": [],
   "source": [
    "summary['predicted_purchases_90d'] = bgf.conditional_expected_number_of_purchases_up_to_time(\n",
    "    90, summary['frequency'], summary['recency'], summary['T']\n",
    ")"
   ]
  },
  {
   "cell_type": "code",
   "execution_count": 34,
   "id": "2e18a856-c052-45cc-9c45-a8692eab0a6a",
   "metadata": {},
   "outputs": [
    {
     "data": {
      "text/plain": [
       "<lifetimes.GammaGammaFitter: fitted with 2818 subjects, p: 3.77, q: 0.33, v: 3.66>"
      ]
     },
     "execution_count": 34,
     "metadata": {},
     "output_type": "execute_result"
    }
   ],
   "source": [
    "ggf = GammaGammaFitter(penalizer_coef=0.01)\n",
    "ggf.fit(summary['frequency'], summary['monetary_value'])"
   ]
  },
  {
   "cell_type": "code",
   "execution_count": 35,
   "id": "5f8b2223-6dd1-409c-8e43-f08b06977931",
   "metadata": {},
   "outputs": [],
   "source": [
    "summary['expected_avg_value'] = ggf.conditional_expected_average_profit(\n",
    "    summary['frequency'], summary['monetary_value']\n",
    ")"
   ]
  },
  {
   "cell_type": "code",
   "execution_count": 36,
   "id": "2b4cb9f9-3309-4b9f-89ee-7419272de9f7",
   "metadata": {},
   "outputs": [],
   "source": [
    "summary['CLV_3_months'] = ggf.customer_lifetime_value(\n",
    "    transaction_prediction_model=bgf,\n",
    "    frequency=summary['frequency'],\n",
    "    recency=summary['recency'],\n",
    "    T=summary['T'],\n",
    "    monetary_value=summary['monetary_value'],\n",
    "    time=3,  #3 months\n",
    "    discount_rate=0.01\n",
    ")"
   ]
  },
  {
   "cell_type": "code",
   "execution_count": 38,
   "id": "ca3206bc-b73f-41f6-85da-439300f579b5",
   "metadata": {},
   "outputs": [],
   "source": [
    "summary['CLV_12_months'] = ggf.customer_lifetime_value(\n",
    "    bgf,\n",
    "    summary['frequency'], summary['recency'], summary['T'],\n",
    "    summary['monetary_value'],\n",
    "    time=12,\n",
    "    discount_rate=0.01\n",
    ")"
   ]
  },
  {
   "cell_type": "code",
   "execution_count": 45,
   "id": "dbc4100e-a88f-4851-94b9-610bd6c3e4ae",
   "metadata": {},
   "outputs": [
    {
     "name": "stdout",
     "output_type": "stream",
     "text": [
      "Cleaned output saved to 'customer_clv_predictions.csv'\n"
     ]
    }
   ],
   "source": [
    "summary_rounded = summary_sorted[['predicted_purchases_90d', 'expected_avg_value', 'CLV_3_months', 'CLV_12_months']].round(0)\n",
    "\n",
    "summary_rounded = summary_rounded.astype(int)\n",
    "summary_rounded['CustomerID'] = summary_sorted.index.astype(int)\n",
    "summary_rounded = summary_rounded[['CustomerID', 'predicted_purchases_90d', 'expected_avg_value', 'CLV_3_months', 'CLV_12_months']]\n",
    "\n",
    "summary_rounded.to_csv('customer_clv_predictions.csv', index=False)\n",
    "print(\"Cleaned output saved to 'customer_clv_predictions.csv'\")\n"
   ]
  },
  {
   "cell_type": "code",
   "execution_count": null,
   "id": "5635f6ec-fdf1-4ef7-a3f8-29fcf5350c72",
   "metadata": {},
   "outputs": [],
   "source": []
  },
  {
   "cell_type": "code",
   "execution_count": null,
   "id": "9fb60117-b366-4650-bb60-fc3dfc0dc947",
   "metadata": {},
   "outputs": [],
   "source": []
  }
 ],
 "metadata": {
  "kernelspec": {
   "display_name": "Python 3 (ipykernel)",
   "language": "python",
   "name": "python3"
  },
  "language_info": {
   "codemirror_mode": {
    "name": "ipython",
    "version": 3
   },
   "file_extension": ".py",
   "mimetype": "text/x-python",
   "name": "python",
   "nbconvert_exporter": "python",
   "pygments_lexer": "ipython3",
   "version": "3.11.7"
  }
 },
 "nbformat": 4,
 "nbformat_minor": 5
}
